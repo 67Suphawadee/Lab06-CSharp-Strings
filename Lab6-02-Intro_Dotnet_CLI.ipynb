{
 "cells": [
  {
   "cell_type": "markdown",
   "metadata": {},
   "source": [
    "# แนะนำ dotnet CLI"
   ]
  },
  {
   "cell_type": "markdown",
   "metadata": {},
   "source": [
    "## คำสั่งพื้นฐาน"
   ]
  },
  {
   "cell_type": "markdown",
   "metadata": {},
   "source": [
    "เราสามารถสั่งให้ dotnet แสดงคำสั่งพื้นฐานออกมาโดยการใข้คำสั่ง dotnet คำสั่ง --help ซึ่งจะแสดงคำสั่งพร้อมรูปแบบการใช้งานโดยย่อออกมา\n",
    "\n",
    "TODO: รันคำสั่งใน block cell ด้านล่างนี้ (หมายเหตุ  block cell ด้านล่างใช้ kernel power shell ซึ่งสามารถเรียกใช้คำสั่งของระบบจาก notbook ได้โดยตรง)"
   ]
  },
  {
   "cell_type": "code",
   "execution_count": null,
   "metadata": {
    "dotnet_interactive": {
     "language": "pwsh"
    },
    "polyglot_notebook": {
     "kernelName": "pwsh"
    }
   },
   "outputs": [],
   "source": [
    "dotnet --help"
   ]
  },
  {
   "cell_type": "markdown",
   "metadata": {},
   "source": [
    "คำสั่งที่ใช้ในการทดลองพื้นฐาน จะมี 3 คำสั่งคือ new, build และ run ซึ่งสามารถศึกษารูปแบบการใช้งานโดยใช้คำสั่ง help ได้เช่นกัน"
   ]
  },
  {
   "cell_type": "markdown",
   "metadata": {},
   "source": [
    "### คำสั่ง dotnet new"
   ]
  },
  {
   "cell_type": "code",
   "execution_count": null,
   "metadata": {
    "dotnet_interactive": {
     "language": "pwsh"
    },
    "polyglot_notebook": {
     "kernelName": "pwsh"
    }
   },
   "outputs": [],
   "source": [
    "dotnet --help new"
   ]
  },
  {
   "cell_type": "markdown",
   "metadata": {},
   "source": [
    "ดูเพิ่มเติมที่\n",
    "\n",
    "https://learn.microsoft.com/en-us/dotnet/core/tools/dotnet-new"
   ]
  },
  {
   "cell_type": "markdown",
   "metadata": {},
   "source": [
    "### คำสั่ง dotnet build"
   ]
  },
  {
   "cell_type": "code",
   "execution_count": null,
   "metadata": {
    "dotnet_interactive": {
     "language": "pwsh"
    },
    "polyglot_notebook": {
     "kernelName": "pwsh"
    }
   },
   "outputs": [],
   "source": [
    "dotnet --help build"
   ]
  },
  {
   "cell_type": "markdown",
   "metadata": {},
   "source": [
    "### คำสั่ง dotnet build"
   ]
  },
  {
   "cell_type": "code",
   "execution_count": null,
   "metadata": {
    "dotnet_interactive": {
     "language": "pwsh"
    },
    "polyglot_notebook": {
     "kernelName": "pwsh"
    }
   },
   "outputs": [],
   "source": [
    "dotnet --help run"
   ]
  }
 ],
 "metadata": {
  "kernelspec": {
   "display_name": ".NET (C#)",
   "language": "C#",
   "name": ".net-csharp"
  },
  "polyglot_notebook": {
   "kernelInfo": {
    "defaultKernelName": "csharp",
    "items": [
     {
      "aliases": [],
      "languageName": "csharp",
      "name": "csharp"
     }
    ]
   }
  }
 },
 "nbformat": 4,
 "nbformat_minor": 2
}
